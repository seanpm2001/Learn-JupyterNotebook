"cells":[{"cell_type":"markdown","source":"# Project language file 1","metadata":{
"cells":[{"cell_type":"markdown","source":"## For: seanpm2001/Learn-JupyterNotebook","metadata":{
"cells":[{"cell_type":"markdown","source":"#### About:","metadata":{
"cells":[{"cell_type":"markdown","source":"I decided to make JupyterNotebook the main project language file for this project (Seanpm2001/Learn-JupyterNotebook) as JupyterNotebook is the language this project is dedicated to, because this project is about learning the JupyterNotebook programming language. It only makes sense to JupyterNotebook the official language for this project. It is getting its own project language file, starting here.","metadata":{ }}}}}}}} // The syntax is likely off, I wrote this by hand, and have no way of testing it.
// File info
// File type: Jupyter Notebook source file (*.ipynb)
// File version: 1 (2022, Thursday, October 6th at 8:18 pm PST)
// Line count (including blank lines and compiler line): 9
